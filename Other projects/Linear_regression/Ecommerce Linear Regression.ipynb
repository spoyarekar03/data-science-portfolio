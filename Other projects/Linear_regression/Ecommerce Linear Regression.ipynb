{
 "cells": [
  {
   "cell_type": "markdown",
   "id": "8b642fed",
   "metadata": {},
   "source": [
    "# Problem statement\n",
    "\n",
    "Ecommerce company based in New York City that sells clothing online but they also have in-store style and clothing advice sessions. Customers come in to the store, have sessions/meetings with a personal stylist, then they can go home and order either on a mobile app or website for the clothes they want.\n",
    "\n",
    "The company is trying to decide whether to focus their efforts on their mobile app experience or their website."
   ]
  },
  {
   "cell_type": "markdown",
   "id": "94810508",
   "metadata": {},
   "source": [
    "### Step1. Importing the libraries"
   ]
  },
  {
   "cell_type": "code",
   "execution_count": 3,
   "id": "318864f6",
   "metadata": {},
   "outputs": [],
   "source": [
    "import pandas as pd\n",
    "import numpy as np\n",
    "import seaborn as sns\n",
    "import matplotlib.pyplot as plt"
   ]
  },
  {
   "cell_type": "markdown",
   "id": "640c173e",
   "metadata": {},
   "source": [
    "### Step2. Creating & Reading the data"
   ]
  },
  {
   "cell_type": "code",
   "execution_count": 4,
   "id": "686fe715",
   "metadata": {},
   "outputs": [
    {
     "data": {
      "text/html": [
       "<div>\n",
       "<style scoped>\n",
       "    .dataframe tbody tr th:only-of-type {\n",
       "        vertical-align: middle;\n",
       "    }\n",
       "\n",
       "    .dataframe tbody tr th {\n",
       "        vertical-align: top;\n",
       "    }\n",
       "\n",
       "    .dataframe thead th {\n",
       "        text-align: right;\n",
       "    }\n",
       "</style>\n",
       "<table border=\"1\" class=\"dataframe\">\n",
       "  <thead>\n",
       "    <tr style=\"text-align: right;\">\n",
       "      <th></th>\n",
       "      <th>Email</th>\n",
       "      <th>Address</th>\n",
       "      <th>Avatar</th>\n",
       "      <th>Avg. Session Length</th>\n",
       "      <th>Time on App</th>\n",
       "      <th>Time on Website</th>\n",
       "      <th>Length of Membership</th>\n",
       "      <th>Yearly Amount Spent</th>\n",
       "    </tr>\n",
       "  </thead>\n",
       "  <tbody>\n",
       "    <tr>\n",
       "      <th>76</th>\n",
       "      <td>david43@richards.com</td>\n",
       "      <td>967 Andrew Spurs\\nMathistown, CO 28230</td>\n",
       "      <td>Indigo</td>\n",
       "      <td>33.555207</td>\n",
       "      <td>11.551821</td>\n",
       "      <td>36.628834</td>\n",
       "      <td>2.837943</td>\n",
       "      <td>444.285907</td>\n",
       "    </tr>\n",
       "    <tr>\n",
       "      <th>421</th>\n",
       "      <td>youngellen@hotmail.com</td>\n",
       "      <td>994 Joel Highway Suite 216\\nNew Jessicafort, U...</td>\n",
       "      <td>DodgerBlue</td>\n",
       "      <td>31.574138</td>\n",
       "      <td>12.941556</td>\n",
       "      <td>36.725277</td>\n",
       "      <td>4.560396</td>\n",
       "      <td>544.409272</td>\n",
       "    </tr>\n",
       "    <tr>\n",
       "      <th>155</th>\n",
       "      <td>aaron11@luna.com</td>\n",
       "      <td>672 Jesus Roads Apt. 443\\nThompsonland, WY 69228</td>\n",
       "      <td>LightSkyBlue</td>\n",
       "      <td>32.449522</td>\n",
       "      <td>13.457725</td>\n",
       "      <td>37.238806</td>\n",
       "      <td>2.941411</td>\n",
       "      <td>503.978379</td>\n",
       "    </tr>\n",
       "    <tr>\n",
       "      <th>493</th>\n",
       "      <td>nathan84@lowery.net</td>\n",
       "      <td>01242 Stephanie Ways Suite 003\\nChurchville, M...</td>\n",
       "      <td>MediumSeaGreen</td>\n",
       "      <td>32.060914</td>\n",
       "      <td>12.625433</td>\n",
       "      <td>35.539142</td>\n",
       "      <td>5.412358</td>\n",
       "      <td>627.603319</td>\n",
       "    </tr>\n",
       "    <tr>\n",
       "      <th>122</th>\n",
       "      <td>scastillo@hotmail.com</td>\n",
       "      <td>0922 Gutierrez Loaf\\nWattsbury, OH 96315</td>\n",
       "      <td>Moccasin</td>\n",
       "      <td>33.268330</td>\n",
       "      <td>11.113330</td>\n",
       "      <td>37.387946</td>\n",
       "      <td>4.018727</td>\n",
       "      <td>514.239521</td>\n",
       "    </tr>\n",
       "    <tr>\n",
       "      <th>154</th>\n",
       "      <td>nathan86@hotmail.com</td>\n",
       "      <td>748 Michael Plaza\\nWest Billyside, UT 20799</td>\n",
       "      <td>MidnightBlue</td>\n",
       "      <td>36.139662</td>\n",
       "      <td>12.050267</td>\n",
       "      <td>36.959643</td>\n",
       "      <td>3.864861</td>\n",
       "      <td>595.803819</td>\n",
       "    </tr>\n",
       "    <tr>\n",
       "      <th>56</th>\n",
       "      <td>gregoryholmes@hotmail.com</td>\n",
       "      <td>2891 Martin Plain Suite 197\\nMelaniestad, NE 6...</td>\n",
       "      <td>DarkSalmon</td>\n",
       "      <td>32.688229</td>\n",
       "      <td>13.761533</td>\n",
       "      <td>39.252931</td>\n",
       "      <td>2.995761</td>\n",
       "      <td>520.898794</td>\n",
       "    </tr>\n",
       "    <tr>\n",
       "      <th>480</th>\n",
       "      <td>christopher44@hotmail.com</td>\n",
       "      <td>549 Anna Avenue\\nPort Laura, CA 76209-9339</td>\n",
       "      <td>WhiteSmoke</td>\n",
       "      <td>34.238242</td>\n",
       "      <td>11.550300</td>\n",
       "      <td>35.769330</td>\n",
       "      <td>4.183144</td>\n",
       "      <td>551.023002</td>\n",
       "    </tr>\n",
       "    <tr>\n",
       "      <th>168</th>\n",
       "      <td>walkererica@scott.com</td>\n",
       "      <td>86536 Barnes Track\\nSouth Kyle, MT 21570-5606</td>\n",
       "      <td>MediumAquaMarine</td>\n",
       "      <td>33.644177</td>\n",
       "      <td>13.160020</td>\n",
       "      <td>36.407747</td>\n",
       "      <td>3.015175</td>\n",
       "      <td>506.536393</td>\n",
       "    </tr>\n",
       "    <tr>\n",
       "      <th>404</th>\n",
       "      <td>gomezalicia@hotmail.com</td>\n",
       "      <td>506 Allison Cove Apt. 766\\nWeeksstad, AS 71308</td>\n",
       "      <td>MediumSpringGreen</td>\n",
       "      <td>32.278443</td>\n",
       "      <td>12.527472</td>\n",
       "      <td>36.688367</td>\n",
       "      <td>3.531402</td>\n",
       "      <td>488.270298</td>\n",
       "    </tr>\n",
       "  </tbody>\n",
       "</table>\n",
       "</div>"
      ],
      "text/plain": [
       "                         Email  \\\n",
       "76        david43@richards.com   \n",
       "421     youngellen@hotmail.com   \n",
       "155           aaron11@luna.com   \n",
       "493        nathan84@lowery.net   \n",
       "122      scastillo@hotmail.com   \n",
       "154       nathan86@hotmail.com   \n",
       "56   gregoryholmes@hotmail.com   \n",
       "480  christopher44@hotmail.com   \n",
       "168      walkererica@scott.com   \n",
       "404    gomezalicia@hotmail.com   \n",
       "\n",
       "                                               Address             Avatar  \\\n",
       "76              967 Andrew Spurs\\nMathistown, CO 28230             Indigo   \n",
       "421  994 Joel Highway Suite 216\\nNew Jessicafort, U...         DodgerBlue   \n",
       "155   672 Jesus Roads Apt. 443\\nThompsonland, WY 69228       LightSkyBlue   \n",
       "493  01242 Stephanie Ways Suite 003\\nChurchville, M...     MediumSeaGreen   \n",
       "122           0922 Gutierrez Loaf\\nWattsbury, OH 96315           Moccasin   \n",
       "154        748 Michael Plaza\\nWest Billyside, UT 20799       MidnightBlue   \n",
       "56   2891 Martin Plain Suite 197\\nMelaniestad, NE 6...         DarkSalmon   \n",
       "480         549 Anna Avenue\\nPort Laura, CA 76209-9339         WhiteSmoke   \n",
       "168      86536 Barnes Track\\nSouth Kyle, MT 21570-5606   MediumAquaMarine   \n",
       "404     506 Allison Cove Apt. 766\\nWeeksstad, AS 71308  MediumSpringGreen   \n",
       "\n",
       "     Avg. Session Length  Time on App  Time on Website  Length of Membership  \\\n",
       "76             33.555207    11.551821        36.628834              2.837943   \n",
       "421            31.574138    12.941556        36.725277              4.560396   \n",
       "155            32.449522    13.457725        37.238806              2.941411   \n",
       "493            32.060914    12.625433        35.539142              5.412358   \n",
       "122            33.268330    11.113330        37.387946              4.018727   \n",
       "154            36.139662    12.050267        36.959643              3.864861   \n",
       "56             32.688229    13.761533        39.252931              2.995761   \n",
       "480            34.238242    11.550300        35.769330              4.183144   \n",
       "168            33.644177    13.160020        36.407747              3.015175   \n",
       "404            32.278443    12.527472        36.688367              3.531402   \n",
       "\n",
       "     Yearly Amount Spent  \n",
       "76            444.285907  \n",
       "421           544.409272  \n",
       "155           503.978379  \n",
       "493           627.603319  \n",
       "122           514.239521  \n",
       "154           595.803819  \n",
       "56            520.898794  \n",
       "480           551.023002  \n",
       "168           506.536393  \n",
       "404           488.270298  "
      ]
     },
     "execution_count": 4,
     "metadata": {},
     "output_type": "execute_result"
    }
   ],
   "source": [
    "df=pd.read_csv(r\"file:///C:/Users/shrey/OneDrive/Desktop/Imaritcus%20Notes/Python/Refactored_Py_DS_ML_Bootcamp-master/11-Linear-Regression/Ecommerce%20Customers\")\n",
    "df.sample(10)"
   ]
  },
  {
   "cell_type": "markdown",
   "id": "6103a4ef",
   "metadata": {},
   "source": [
    "### Step3. Data Exploration "
   ]
  },
  {
   "cell_type": "code",
   "execution_count": 3,
   "id": "556765df",
   "metadata": {},
   "outputs": [
    {
     "name": "stdout",
     "output_type": "stream",
     "text": [
      "(500, 8)\n",
      "<class 'pandas.core.frame.DataFrame'>\n",
      "RangeIndex: 500 entries, 0 to 499\n",
      "Data columns (total 8 columns):\n",
      " #   Column                Non-Null Count  Dtype  \n",
      "---  ------                --------------  -----  \n",
      " 0   Email                 500 non-null    object \n",
      " 1   Address               500 non-null    object \n",
      " 2   Avatar                500 non-null    object \n",
      " 3   Avg. Session Length   500 non-null    float64\n",
      " 4   Time on App           500 non-null    float64\n",
      " 5   Time on Website       500 non-null    float64\n",
      " 6   Length of Membership  500 non-null    float64\n",
      " 7   Yearly Amount Spent   500 non-null    float64\n",
      "dtypes: float64(5), object(3)\n",
      "memory usage: 31.4+ KB\n",
      "None\n",
      "Email                    object\n",
      "Address                  object\n",
      "Avatar                   object\n",
      "Avg. Session Length     float64\n",
      "Time on App             float64\n",
      "Time on Website         float64\n",
      "Length of Membership    float64\n",
      "Yearly Amount Spent     float64\n",
      "dtype: object\n"
     ]
    }
   ],
   "source": [
    "print(df.shape)\n",
    "print(df.info())\n",
    "print(df.dtypes)"
   ]
  },
  {
   "cell_type": "markdown",
   "id": "a5d8ca17",
   "metadata": {},
   "source": [
    "### Step4. Check if there are missing values. If yes, handle them."
   ]
  },
  {
   "cell_type": "code",
   "execution_count": 4,
   "id": "915ddd71",
   "metadata": {},
   "outputs": [
    {
     "data": {
      "text/plain": [
       "Email                   0\n",
       "Address                 0\n",
       "Avatar                  0\n",
       "Avg. Session Length     0\n",
       "Time on App             0\n",
       "Time on Website         0\n",
       "Length of Membership    0\n",
       "Yearly Amount Spent     0\n",
       "dtype: int64"
      ]
     },
     "execution_count": 4,
     "metadata": {},
     "output_type": "execute_result"
    }
   ],
   "source": [
    "df.isnull().sum()"
   ]
  },
  {
   "cell_type": "code",
   "execution_count": 5,
   "id": "6005525d",
   "metadata": {},
   "outputs": [
    {
     "data": {
      "text/plain": [
       "0"
      ]
     },
     "execution_count": 5,
     "metadata": {},
     "output_type": "execute_result"
    }
   ],
   "source": [
    "df.duplicated().sum()"
   ]
  },
  {
   "cell_type": "code",
   "execution_count": 6,
   "id": "96cf6f44",
   "metadata": {},
   "outputs": [
    {
     "data": {
      "text/html": [
       "<div>\n",
       "<style scoped>\n",
       "    .dataframe tbody tr th:only-of-type {\n",
       "        vertical-align: middle;\n",
       "    }\n",
       "\n",
       "    .dataframe tbody tr th {\n",
       "        vertical-align: top;\n",
       "    }\n",
       "\n",
       "    .dataframe thead th {\n",
       "        text-align: right;\n",
       "    }\n",
       "</style>\n",
       "<table border=\"1\" class=\"dataframe\">\n",
       "  <thead>\n",
       "    <tr style=\"text-align: right;\">\n",
       "      <th></th>\n",
       "      <th>Avg. Session Length</th>\n",
       "      <th>Time on App</th>\n",
       "      <th>Time on Website</th>\n",
       "      <th>Length of Membership</th>\n",
       "      <th>Yearly Amount Spent</th>\n",
       "    </tr>\n",
       "  </thead>\n",
       "  <tbody>\n",
       "    <tr>\n",
       "      <th>count</th>\n",
       "      <td>500.000000</td>\n",
       "      <td>500.000000</td>\n",
       "      <td>500.000000</td>\n",
       "      <td>500.000000</td>\n",
       "      <td>500.000000</td>\n",
       "    </tr>\n",
       "    <tr>\n",
       "      <th>mean</th>\n",
       "      <td>33.053194</td>\n",
       "      <td>12.052488</td>\n",
       "      <td>37.060445</td>\n",
       "      <td>3.533462</td>\n",
       "      <td>499.314038</td>\n",
       "    </tr>\n",
       "    <tr>\n",
       "      <th>std</th>\n",
       "      <td>0.992563</td>\n",
       "      <td>0.994216</td>\n",
       "      <td>1.010489</td>\n",
       "      <td>0.999278</td>\n",
       "      <td>79.314782</td>\n",
       "    </tr>\n",
       "    <tr>\n",
       "      <th>min</th>\n",
       "      <td>29.532429</td>\n",
       "      <td>8.508152</td>\n",
       "      <td>33.913847</td>\n",
       "      <td>0.269901</td>\n",
       "      <td>256.670582</td>\n",
       "    </tr>\n",
       "    <tr>\n",
       "      <th>25%</th>\n",
       "      <td>32.341822</td>\n",
       "      <td>11.388153</td>\n",
       "      <td>36.349257</td>\n",
       "      <td>2.930450</td>\n",
       "      <td>445.038277</td>\n",
       "    </tr>\n",
       "    <tr>\n",
       "      <th>50%</th>\n",
       "      <td>33.082008</td>\n",
       "      <td>11.983231</td>\n",
       "      <td>37.069367</td>\n",
       "      <td>3.533975</td>\n",
       "      <td>498.887875</td>\n",
       "    </tr>\n",
       "    <tr>\n",
       "      <th>75%</th>\n",
       "      <td>33.711985</td>\n",
       "      <td>12.753850</td>\n",
       "      <td>37.716432</td>\n",
       "      <td>4.126502</td>\n",
       "      <td>549.313828</td>\n",
       "    </tr>\n",
       "    <tr>\n",
       "      <th>max</th>\n",
       "      <td>36.139662</td>\n",
       "      <td>15.126994</td>\n",
       "      <td>40.005182</td>\n",
       "      <td>6.922689</td>\n",
       "      <td>765.518462</td>\n",
       "    </tr>\n",
       "  </tbody>\n",
       "</table>\n",
       "</div>"
      ],
      "text/plain": [
       "       Avg. Session Length  Time on App  Time on Website  \\\n",
       "count           500.000000   500.000000       500.000000   \n",
       "mean             33.053194    12.052488        37.060445   \n",
       "std               0.992563     0.994216         1.010489   \n",
       "min              29.532429     8.508152        33.913847   \n",
       "25%              32.341822    11.388153        36.349257   \n",
       "50%              33.082008    11.983231        37.069367   \n",
       "75%              33.711985    12.753850        37.716432   \n",
       "max              36.139662    15.126994        40.005182   \n",
       "\n",
       "       Length of Membership  Yearly Amount Spent  \n",
       "count            500.000000           500.000000  \n",
       "mean               3.533462           499.314038  \n",
       "std                0.999278            79.314782  \n",
       "min                0.269901           256.670582  \n",
       "25%                2.930450           445.038277  \n",
       "50%                3.533975           498.887875  \n",
       "75%                4.126502           549.313828  \n",
       "max                6.922689           765.518462  "
      ]
     },
     "execution_count": 6,
     "metadata": {},
     "output_type": "execute_result"
    }
   ],
   "source": [
    "df.describe()"
   ]
  },
  {
   "cell_type": "code",
   "execution_count": 7,
   "id": "361eee07",
   "metadata": {},
   "outputs": [
    {
     "data": {
      "text/plain": [
       "Index(['Email', 'Address', 'Avatar', 'Avg. Session Length', 'Time on App',\n",
       "       'Time on Website', 'Length of Membership', 'Yearly Amount Spent'],\n",
       "      dtype='object')"
      ]
     },
     "execution_count": 7,
     "metadata": {},
     "output_type": "execute_result"
    }
   ],
   "source": [
    "df.columns"
   ]
  },
  {
   "cell_type": "code",
   "execution_count": 5,
   "id": "243bb3d4",
   "metadata": {},
   "outputs": [
    {
     "data": {
      "text/html": [
       "<div>\n",
       "<style scoped>\n",
       "    .dataframe tbody tr th:only-of-type {\n",
       "        vertical-align: middle;\n",
       "    }\n",
       "\n",
       "    .dataframe tbody tr th {\n",
       "        vertical-align: top;\n",
       "    }\n",
       "\n",
       "    .dataframe thead th {\n",
       "        text-align: right;\n",
       "    }\n",
       "</style>\n",
       "<table border=\"1\" class=\"dataframe\">\n",
       "  <thead>\n",
       "    <tr style=\"text-align: right;\">\n",
       "      <th></th>\n",
       "      <th>Email</th>\n",
       "      <th>Address</th>\n",
       "      <th>Avatar</th>\n",
       "      <th>Avgsessionlength</th>\n",
       "      <th>TimeonApp</th>\n",
       "      <th>TimeonWebsite</th>\n",
       "      <th>LengthofMembership</th>\n",
       "      <th>YearlyAmountSpent</th>\n",
       "    </tr>\n",
       "  </thead>\n",
       "  <tbody>\n",
       "    <tr>\n",
       "      <th>0</th>\n",
       "      <td>mstephenson@fernandez.com</td>\n",
       "      <td>835 Frank Tunnel\\nWrightmouth, MI 82180-9605</td>\n",
       "      <td>Violet</td>\n",
       "      <td>34.497268</td>\n",
       "      <td>12.655651</td>\n",
       "      <td>39.577668</td>\n",
       "      <td>4.082621</td>\n",
       "      <td>587.951054</td>\n",
       "    </tr>\n",
       "    <tr>\n",
       "      <th>1</th>\n",
       "      <td>hduke@hotmail.com</td>\n",
       "      <td>4547 Archer Common\\nDiazchester, CA 06566-8576</td>\n",
       "      <td>DarkGreen</td>\n",
       "      <td>31.926272</td>\n",
       "      <td>11.109461</td>\n",
       "      <td>37.268959</td>\n",
       "      <td>2.664034</td>\n",
       "      <td>392.204933</td>\n",
       "    </tr>\n",
       "    <tr>\n",
       "      <th>2</th>\n",
       "      <td>pallen@yahoo.com</td>\n",
       "      <td>24645 Valerie Unions Suite 582\\nCobbborough, D...</td>\n",
       "      <td>Bisque</td>\n",
       "      <td>33.000915</td>\n",
       "      <td>11.330278</td>\n",
       "      <td>37.110597</td>\n",
       "      <td>4.104543</td>\n",
       "      <td>487.547505</td>\n",
       "    </tr>\n",
       "    <tr>\n",
       "      <th>3</th>\n",
       "      <td>riverarebecca@gmail.com</td>\n",
       "      <td>1414 David Throughway\\nPort Jason, OH 22070-1220</td>\n",
       "      <td>SaddleBrown</td>\n",
       "      <td>34.305557</td>\n",
       "      <td>13.717514</td>\n",
       "      <td>36.721283</td>\n",
       "      <td>3.120179</td>\n",
       "      <td>581.852344</td>\n",
       "    </tr>\n",
       "    <tr>\n",
       "      <th>4</th>\n",
       "      <td>mstephens@davidson-herman.com</td>\n",
       "      <td>14023 Rodriguez Passage\\nPort Jacobville, PR 3...</td>\n",
       "      <td>MediumAquaMarine</td>\n",
       "      <td>33.330673</td>\n",
       "      <td>12.795189</td>\n",
       "      <td>37.536653</td>\n",
       "      <td>4.446308</td>\n",
       "      <td>599.406092</td>\n",
       "    </tr>\n",
       "  </tbody>\n",
       "</table>\n",
       "</div>"
      ],
      "text/plain": [
       "                           Email  \\\n",
       "0      mstephenson@fernandez.com   \n",
       "1              hduke@hotmail.com   \n",
       "2               pallen@yahoo.com   \n",
       "3        riverarebecca@gmail.com   \n",
       "4  mstephens@davidson-herman.com   \n",
       "\n",
       "                                             Address            Avatar  \\\n",
       "0       835 Frank Tunnel\\nWrightmouth, MI 82180-9605            Violet   \n",
       "1     4547 Archer Common\\nDiazchester, CA 06566-8576         DarkGreen   \n",
       "2  24645 Valerie Unions Suite 582\\nCobbborough, D...            Bisque   \n",
       "3   1414 David Throughway\\nPort Jason, OH 22070-1220       SaddleBrown   \n",
       "4  14023 Rodriguez Passage\\nPort Jacobville, PR 3...  MediumAquaMarine   \n",
       "\n",
       "   Avgsessionlength  TimeonApp  TimeonWebsite  LengthofMembership  \\\n",
       "0         34.497268  12.655651      39.577668            4.082621   \n",
       "1         31.926272  11.109461      37.268959            2.664034   \n",
       "2         33.000915  11.330278      37.110597            4.104543   \n",
       "3         34.305557  13.717514      36.721283            3.120179   \n",
       "4         33.330673  12.795189      37.536653            4.446308   \n",
       "\n",
       "   YearlyAmountSpent  \n",
       "0         587.951054  \n",
       "1         392.204933  \n",
       "2         487.547505  \n",
       "3         581.852344  \n",
       "4         599.406092  "
      ]
     },
     "execution_count": 5,
     "metadata": {},
     "output_type": "execute_result"
    }
   ],
   "source": [
    "df.columns=[\"Email\",\"Address\",\"Avatar\",\"Avgsessionlength\",\"TimeonApp\",\"TimeonWebsite\",\"LengthofMembership\",\"YearlyAmountSpent\"]\n",
    "df.head()"
   ]
  },
  {
   "cell_type": "markdown",
   "id": "c034f113",
   "metadata": {},
   "source": [
    "### Step5. Creating X & Y"
   ]
  },
  {
   "cell_type": "code",
   "execution_count": 44,
   "id": "868f30e4",
   "metadata": {},
   "outputs": [],
   "source": [
    "X=df[['Avgsessionlength', 'TimeonApp',\n",
    "       'TimeonWebsite', 'LengthofMembership']]\n",
    "Y=df['YearlyAmountSpent']"
   ]
  },
  {
   "cell_type": "code",
   "execution_count": 45,
   "id": "40980587",
   "metadata": {},
   "outputs": [
    {
     "data": {
      "text/plain": [
       "<seaborn.axisgrid.PairGrid at 0x219353e6d30>"
      ]
     },
     "execution_count": 45,
     "metadata": {},
     "output_type": "execute_result"
    },
    {
     "data": {
      "image/png": "[encoded data removed]",
      "text/plain": [
       "<Figure size 720x180 with 4 Axes>"
      ]
     },
     "metadata": {
      "needs_background": "light"
     },
     "output_type": "display_data"
    }
   ],
   "source": [
    "#Assumption 1: Assumption of linerarity: Every ind var sholud have a \n",
    "#linear relationship with the dep var\n",
    "\n",
    "sns.pairplot(df,x_vars=[\"Avgsessionlength\",\"TimeonApp\",\"TimeonWebsite\",\"LengthofMembership\"],y_vars=\"YearlyAmountSpent\",kind=\"reg\")"
   ]
  },
  {
   "cell_type": "code",
   "execution_count": 46,
   "id": "8e3516fa",
   "metadata": {},
   "outputs": [
    {
     "name": "stdout",
     "output_type": "stream",
     "text": [
      "(500, 4)\n",
      "(500,)\n"
     ]
    }
   ],
   "source": [
    "print(X.shape)\n",
    "print(Y.shape)"
   ]
  },
  {
   "cell_type": "code",
   "execution_count": 47,
   "id": "c8ef2a5c",
   "metadata": {},
   "outputs": [
    {
     "name": "stderr",
     "output_type": "stream",
     "text": [
      "C:\\Users\\shrey\\anaconda3\\lib\\site-packages\\seaborn\\distributions.py:2619: FutureWarning: `distplot` is a deprecated function and will be removed in a future version. Please adapt your code to use either `displot` (a figure-level function with similar flexibility) or `histplot` (an axes-level function for histograms).\n",
      "  warnings.warn(msg, FutureWarning)\n"
     ]
    },
    {
     "data": {
      "text/plain": [
       "<AxesSubplot:xlabel='YearlyAmountSpent', ylabel='Density'>"
      ]
     },
     "execution_count": 47,
     "metadata": {},
     "output_type": "execute_result"
    },
    {
     "data": {
      "image/png": "[encoded data removed]",
      "text/plain": [
       "<Figure size 432x288 with 1 Axes>"
      ]
     },
     "metadata": {
      "needs_background": "light"
     },
     "output_type": "display_data"
    }
   ],
   "source": [
    "#Assumption of Normality 2: The dependent variable should follow an approximate normal distribution.\n",
    "sns.distplot(Y)"
   ]
  },
  {
   "cell_type": "code",
   "execution_count": 48,
   "id": "7e839e08",
   "metadata": {},
   "outputs": [
    {
     "data": {
      "text/html": [
       "<div>\n",
       "<style scoped>\n",
       "    .dataframe tbody tr th:only-of-type {\n",
       "        vertical-align: middle;\n",
       "    }\n",
       "\n",
       "    .dataframe tbody tr th {\n",
       "        vertical-align: top;\n",
       "    }\n",
       "\n",
       "    .dataframe thead th {\n",
       "        text-align: right;\n",
       "    }\n",
       "</style>\n",
       "<table border=\"1\" class=\"dataframe\">\n",
       "  <thead>\n",
       "    <tr style=\"text-align: right;\">\n",
       "      <th></th>\n",
       "      <th>Avgsessionlength</th>\n",
       "      <th>TimeonApp</th>\n",
       "      <th>TimeonWebsite</th>\n",
       "      <th>LengthofMembership</th>\n",
       "    </tr>\n",
       "  </thead>\n",
       "  <tbody>\n",
       "    <tr>\n",
       "      <th>Avgsessionlength</th>\n",
       "      <td>1.000000</td>\n",
       "      <td>-0.027826</td>\n",
       "      <td>-0.034987</td>\n",
       "      <td>0.060247</td>\n",
       "    </tr>\n",
       "    <tr>\n",
       "      <th>TimeonApp</th>\n",
       "      <td>-0.027826</td>\n",
       "      <td>1.000000</td>\n",
       "      <td>0.082388</td>\n",
       "      <td>0.029143</td>\n",
       "    </tr>\n",
       "    <tr>\n",
       "      <th>TimeonWebsite</th>\n",
       "      <td>-0.034987</td>\n",
       "      <td>0.082388</td>\n",
       "      <td>1.000000</td>\n",
       "      <td>-0.047582</td>\n",
       "    </tr>\n",
       "    <tr>\n",
       "      <th>LengthofMembership</th>\n",
       "      <td>0.060247</td>\n",
       "      <td>0.029143</td>\n",
       "      <td>-0.047582</td>\n",
       "      <td>1.000000</td>\n",
       "    </tr>\n",
       "  </tbody>\n",
       "</table>\n",
       "</div>"
      ],
      "text/plain": [
       "                    Avgsessionlength  TimeonApp  TimeonWebsite  \\\n",
       "Avgsessionlength            1.000000  -0.027826      -0.034987   \n",
       "TimeonApp                  -0.027826   1.000000       0.082388   \n",
       "TimeonWebsite              -0.034987   0.082388       1.000000   \n",
       "LengthofMembership          0.060247   0.029143      -0.047582   \n",
       "\n",
       "                    LengthofMembership  \n",
       "Avgsessionlength              0.060247  \n",
       "TimeonApp                     0.029143  \n",
       "TimeonWebsite                -0.047582  \n",
       "LengthofMembership            1.000000  "
      ]
     },
     "execution_count": 48,
     "metadata": {},
     "output_type": "execute_result"
    }
   ],
   "source": [
    "#Asusumption of no multicollinearity 3:\n",
    "corr_df=X.corr(method=\"pearson\")\n",
    "corr_df"
   ]
  },
  {
   "cell_type": "code",
   "execution_count": 49,
   "id": "034592b3",
   "metadata": {},
   "outputs": [
    {
     "data": {
      "text/plain": [
       "<AxesSubplot:>"
      ]
     },
     "execution_count": 49,
     "metadata": {},
     "output_type": "execute_result"
    },
    {
     "data": {
      "image/png": "[encoded data removed]",
      "text/plain": [
       "<Figure size 432x288 with 2 Axes>"
      ]
     },
     "metadata": {
      "needs_background": "light"
     },
     "output_type": "display_data"
    }
   ],
   "source": [
    "sns.heatmap(corr_df,annot=True)"
   ]
  },
  {
   "cell_type": "code",
   "execution_count": 50,
   "id": "e1918ef0",
   "metadata": {},
   "outputs": [
    {
     "data": {
      "text/html": [
       "<div>\n",
       "<style scoped>\n",
       "    .dataframe tbody tr th:only-of-type {\n",
       "        vertical-align: middle;\n",
       "    }\n",
       "\n",
       "    .dataframe tbody tr th {\n",
       "        vertical-align: top;\n",
       "    }\n",
       "\n",
       "    .dataframe thead th {\n",
       "        text-align: right;\n",
       "    }\n",
       "</style>\n",
       "<table border=\"1\" class=\"dataframe\">\n",
       "  <thead>\n",
       "    <tr style=\"text-align: right;\">\n",
       "      <th></th>\n",
       "      <th>features</th>\n",
       "      <th>VIF Factor</th>\n",
       "    </tr>\n",
       "  </thead>\n",
       "  <tbody>\n",
       "    <tr>\n",
       "      <th>0</th>\n",
       "      <td>Avgsessionlength</td>\n",
       "      <td>613.19</td>\n",
       "    </tr>\n",
       "    <tr>\n",
       "      <th>1</th>\n",
       "      <td>TimeonApp</td>\n",
       "      <td>144.02</td>\n",
       "    </tr>\n",
       "    <tr>\n",
       "      <th>2</th>\n",
       "      <td>TimeonWebsite</td>\n",
       "      <td>658.50</td>\n",
       "    </tr>\n",
       "    <tr>\n",
       "      <th>3</th>\n",
       "      <td>LengthofMembership</td>\n",
       "      <td>13.58</td>\n",
       "    </tr>\n",
       "  </tbody>\n",
       "</table>\n",
       "</div>"
      ],
      "text/plain": [
       "             features  VIF Factor\n",
       "0    Avgsessionlength      613.19\n",
       "1           TimeonApp      144.02\n",
       "2       TimeonWebsite      658.50\n",
       "3  LengthofMembership       13.58"
      ]
     },
     "execution_count": 50,
     "metadata": {},
     "output_type": "execute_result"
    }
   ],
   "source": [
    "from statsmodels.stats.outliers_influence import variance_inflation_factor as vif\n",
    "\n",
    "vif_df = pd.DataFrame()\n",
    "vif_df[\"features\"] = X.columns\n",
    "vif_df[\"VIF Factor\"] = [vif(X.values, i) for i in range((len(X.columns)))]\n",
    "vif_df.round(2)"
   ]
  },
  {
   "cell_type": "code",
   "execution_count": 51,
   "id": "2c0bb702",
   "metadata": {},
   "outputs": [
    {
     "name": "stdout",
     "output_type": "stream",
     "text": [
      "Avgsessionlength     -0.032078\n",
      "TimeonApp            -0.088854\n",
      "TimeonWebsite         0.012105\n",
      "LengthofMembership   -0.106288\n",
      "dtype: float64\n",
      "Series([], dtype: float64)\n"
     ]
    }
   ],
   "source": [
    "from scipy.stats import skew\n",
    "data_num_skew = X.apply(lambda i: skew(i.dropna()))\n",
    "data_num_skewed = data_num_skew[(data_num_skew > .75) | (data_num_skew < -.75)]\n",
    "print(data_num_skew)\n",
    "print(data_num_skewed)"
   ]
  },
  {
   "cell_type": "markdown",
   "id": "163ce933",
   "metadata": {},
   "source": [
    "### Step6. Shuffle and Split Data"
   ]
  },
  {
   "cell_type": "code",
   "execution_count": 52,
   "id": "d5eb70bd",
   "metadata": {},
   "outputs": [],
   "source": [
    "from sklearn.model_selection import train_test_split\n",
    "\n",
    "X_train,X_test,Y_train,Y_test=train_test_split(X,Y,test_size=0.2,random_state=10)"
   ]
  },
  {
   "cell_type": "code",
   "execution_count": 53,
   "id": "95b6855b",
   "metadata": {},
   "outputs": [
    {
     "name": "stdout",
     "output_type": "stream",
     "text": [
      "(400, 4)\n",
      "(400,)\n",
      "(100, 4)\n",
      "(100,)\n"
     ]
    }
   ],
   "source": [
    "print(X_train.shape)\n",
    "print(Y_train.shape)\n",
    "print(X_test.shape)\n",
    "print(Y_test.shape)"
   ]
  },
  {
   "cell_type": "markdown",
   "id": "4dc0cf71",
   "metadata": {},
   "source": [
    "### Creating the model"
   ]
  },
  {
   "cell_type": "code",
   "execution_count": 54,
   "id": "b0da9671",
   "metadata": {},
   "outputs": [],
   "source": [
    "from sklearn.linear_model import LinearRegression\n",
    "\n",
    "lm=LinearRegression()"
   ]
  },
  {
   "cell_type": "markdown",
   "id": "6e642afc",
   "metadata": {},
   "source": [
    "### Training the model"
   ]
  },
  {
   "cell_type": "code",
   "execution_count": 55,
   "id": "d1e437c4",
   "metadata": {},
   "outputs": [
    {
     "name": "stdout",
     "output_type": "stream",
     "text": [
      "-1063.1760775809694\n",
      "[25.84410197 38.67941217  0.64440855 61.81547319]\n"
     ]
    }
   ],
   "source": [
    "lm.fit(X_train,Y_train)\n",
    "print(lm.intercept_)\n",
    "print(lm.coef_)"
   ]
  },
  {
   "cell_type": "code",
   "execution_count": 56,
   "id": "d24f5b07",
   "metadata": {},
   "outputs": [
    {
     "data": {
      "text/html": [
       "<div>\n",
       "<style scoped>\n",
       "    .dataframe tbody tr th:only-of-type {\n",
       "        vertical-align: middle;\n",
       "    }\n",
       "\n",
       "    .dataframe tbody tr th {\n",
       "        vertical-align: top;\n",
       "    }\n",
       "\n",
       "    .dataframe thead th {\n",
       "        text-align: right;\n",
       "    }\n",
       "</style>\n",
       "<table border=\"1\" class=\"dataframe\">\n",
       "  <thead>\n",
       "    <tr style=\"text-align: right;\">\n",
       "      <th></th>\n",
       "      <th>Coeff</th>\n",
       "    </tr>\n",
       "  </thead>\n",
       "  <tbody>\n",
       "    <tr>\n",
       "      <th>Avgsessionlength</th>\n",
       "      <td>25.844102</td>\n",
       "    </tr>\n",
       "    <tr>\n",
       "      <th>TimeonApp</th>\n",
       "      <td>38.679412</td>\n",
       "    </tr>\n",
       "    <tr>\n",
       "      <th>TimeonWebsite</th>\n",
       "      <td>0.644409</td>\n",
       "    </tr>\n",
       "    <tr>\n",
       "      <th>LengthofMembership</th>\n",
       "      <td>61.815473</td>\n",
       "    </tr>\n",
       "  </tbody>\n",
       "</table>\n",
       "</div>"
      ],
      "text/plain": [
       "                        Coeff\n",
       "Avgsessionlength    25.844102\n",
       "TimeonApp           38.679412\n",
       "TimeonWebsite        0.644409\n",
       "LengthofMembership  61.815473"
      ]
     },
     "execution_count": 56,
     "metadata": {},
     "output_type": "execute_result"
    }
   ],
   "source": [
    "cdf=pd.DataFrame(lm.coef_,X.columns,columns=[\"Coeff\"])\n",
    "cdf"
   ]
  },
  {
   "cell_type": "markdown",
   "id": "b697068a",
   "metadata": {},
   "source": [
    "1 unit increase in **Avg. Session Length** is associated with an **increase of \\$25.844102**.\n",
    " \n",
    "1 unit increase in **Time on App** is associated with an **increase of \\$38.679412**.\n",
    " \n",
    "1 unit increase in **Time on Website** is associated with an **increase of \\$0.644409**\n",
    "\n",
    "1 unit increase in **Length of Membership** is associated with an **increase of \\$61.815473**"
   ]
  },
  {
   "cell_type": "markdown",
   "id": "11fb0166",
   "metadata": {},
   "source": [
    "### Predicting the model"
   ]
  },
  {
   "cell_type": "code",
   "execution_count": 57,
   "id": "5cc503eb",
   "metadata": {},
   "outputs": [
    {
     "data": {
      "text/plain": [
       "array([685.70655938, 497.63380052, 599.64360371, 610.22271417,\n",
       "       585.00948031, 478.43493551, 543.83262524, 575.61671765,\n",
       "       753.07024358, 468.73480135, 506.7976312 , 559.2711521 ,\n",
       "       553.61914368, 494.71655627, 531.01872089, 434.29492427,\n",
       "       543.70444581, 562.7636641 , 421.59699769, 408.98854566,\n",
       "       544.07874715, 450.74309986, 499.81877354, 507.53769613,\n",
       "       693.93634304, 435.10415288, 527.84425312, 466.33172079,\n",
       "       493.9761553 , 478.04387558, 563.69390249, 487.88588029,\n",
       "       481.70767175, 508.4907605 , 515.48727739, 539.06658181,\n",
       "       421.98733681, 472.03958081, 510.42751787, 507.43458839,\n",
       "       503.21039247, 552.27642729, 642.43892034, 434.54716619,\n",
       "       704.27974165, 607.12353   , 658.20257824, 766.6621823 ,\n",
       "       577.17770743, 445.47796648, 473.94669074, 504.11068297,\n",
       "       601.93512863, 491.30380457, 552.11313086, 489.62016949,\n",
       "       429.50808414, 558.89460594, 431.98617697, 556.74887223,\n",
       "       401.80537707, 421.46531986, 546.74423595, 564.97932908,\n",
       "       472.73414958, 371.86413145, 480.58867173, 589.10338215,\n",
       "       411.70432831, 519.39088684, 315.34689013, 532.67826013,\n",
       "       607.04186905, 458.72922356, 517.2828701 , 421.85351449,\n",
       "       498.22911159, 506.2484029 , 532.64084184, 601.96644284,\n",
       "       575.24412914, 519.76038393, 565.30350201, 451.67944615,\n",
       "       594.02243998, 380.33213217, 512.07370822, 500.87701333,\n",
       "       508.7273707 , 472.75452854, 672.05432831, 572.52171592,\n",
       "       364.73838022, 599.72285064, 516.5556819 , 726.12843291,\n",
       "       598.67467493, 512.8212282 , 499.68307789, 599.9058829 ])"
      ]
     },
     "execution_count": 57,
     "metadata": {},
     "output_type": "execute_result"
    }
   ],
   "source": [
    "Y_pred=lm.predict(X_test)\n",
    "Y_pred"
   ]
  },
  {
   "cell_type": "code",
   "execution_count": 60,
   "id": "a559733c",
   "metadata": {},
   "outputs": [
    {
     "data": {
      "text/html": [
       "<div>\n",
       "<style scoped>\n",
       "    .dataframe tbody tr th:only-of-type {\n",
       "        vertical-align: middle;\n",
       "    }\n",
       "\n",
       "    .dataframe tbody tr th {\n",
       "        vertical-align: top;\n",
       "    }\n",
       "\n",
       "    .dataframe thead th {\n",
       "        text-align: right;\n",
       "    }\n",
       "</style>\n",
       "<table border=\"1\" class=\"dataframe\">\n",
       "  <thead>\n",
       "    <tr style=\"text-align: right;\">\n",
       "      <th></th>\n",
       "      <th>Avgsessionlength</th>\n",
       "      <th>TimeonApp</th>\n",
       "      <th>TimeonWebsite</th>\n",
       "      <th>LengthofMembership</th>\n",
       "      <th>Actual_amount</th>\n",
       "      <th>Predicted_amount</th>\n",
       "    </tr>\n",
       "  </thead>\n",
       "  <tbody>\n",
       "    <tr>\n",
       "      <th>0</th>\n",
       "      <td>32.887105</td>\n",
       "      <td>12.387184</td>\n",
       "      <td>37.431159</td>\n",
       "      <td>6.401229</td>\n",
       "      <td>684.163431</td>\n",
       "      <td>685.706559</td>\n",
       "    </tr>\n",
       "    <tr>\n",
       "      <th>1</th>\n",
       "      <td>34.370327</td>\n",
       "      <td>11.887800</td>\n",
       "      <td>37.861447</td>\n",
       "      <td>3.046620</td>\n",
       "      <td>491.911505</td>\n",
       "      <td>497.633801</td>\n",
       "    </tr>\n",
       "    <tr>\n",
       "      <th>2</th>\n",
       "      <td>36.139662</td>\n",
       "      <td>12.050267</td>\n",
       "      <td>36.959643</td>\n",
       "      <td>3.864861</td>\n",
       "      <td>595.803819</td>\n",
       "      <td>599.643604</td>\n",
       "    </tr>\n",
       "    <tr>\n",
       "      <th>3</th>\n",
       "      <td>34.713317</td>\n",
       "      <td>12.038808</td>\n",
       "      <td>37.635299</td>\n",
       "      <td>4.632461</td>\n",
       "      <td>612.385230</td>\n",
       "      <td>610.222714</td>\n",
       "    </tr>\n",
       "    <tr>\n",
       "      <th>4</th>\n",
       "      <td>32.439770</td>\n",
       "      <td>12.424130</td>\n",
       "      <td>38.948825</td>\n",
       "      <td>4.920318</td>\n",
       "      <td>573.306222</td>\n",
       "      <td>585.009480</td>\n",
       "    </tr>\n",
       "    <tr>\n",
       "      <th>...</th>\n",
       "      <td>...</td>\n",
       "      <td>...</td>\n",
       "      <td>...</td>\n",
       "      <td>...</td>\n",
       "      <td>...</td>\n",
       "      <td>...</td>\n",
       "    </tr>\n",
       "    <tr>\n",
       "      <th>95</th>\n",
       "      <td>33.256335</td>\n",
       "      <td>13.858062</td>\n",
       "      <td>37.780265</td>\n",
       "      <td>5.976768</td>\n",
       "      <td>725.584814</td>\n",
       "      <td>726.128433</td>\n",
       "    </tr>\n",
       "    <tr>\n",
       "      <th>96</th>\n",
       "      <td>33.108336</td>\n",
       "      <td>12.892375</td>\n",
       "      <td>36.527388</td>\n",
       "      <td>4.594117</td>\n",
       "      <td>614.729638</td>\n",
       "      <td>598.674675</td>\n",
       "    </tr>\n",
       "    <tr>\n",
       "      <th>97</th>\n",
       "      <td>32.820310</td>\n",
       "      <td>11.634893</td>\n",
       "      <td>35.368626</td>\n",
       "      <td>4.124585</td>\n",
       "      <td>507.441832</td>\n",
       "      <td>512.821228</td>\n",
       "    </tr>\n",
       "    <tr>\n",
       "      <th>98</th>\n",
       "      <td>32.597183</td>\n",
       "      <td>10.889567</td>\n",
       "      <td>38.212571</td>\n",
       "      <td>4.442054</td>\n",
       "      <td>488.786061</td>\n",
       "      <td>499.683078</td>\n",
       "    </tr>\n",
       "    <tr>\n",
       "      <th>99</th>\n",
       "      <td>34.814984</td>\n",
       "      <td>12.114945</td>\n",
       "      <td>36.288724</td>\n",
       "      <td>4.389455</td>\n",
       "      <td>604.334840</td>\n",
       "      <td>599.905883</td>\n",
       "    </tr>\n",
       "  </tbody>\n",
       "</table>\n",
       "<p>100 rows × 6 columns</p>\n",
       "</div>"
      ],
      "text/plain": [
       "    Avgsessionlength  TimeonApp  TimeonWebsite  LengthofMembership  \\\n",
       "0          32.887105  12.387184      37.431159            6.401229   \n",
       "1          34.370327  11.887800      37.861447            3.046620   \n",
       "2          36.139662  12.050267      36.959643            3.864861   \n",
       "3          34.713317  12.038808      37.635299            4.632461   \n",
       "4          32.439770  12.424130      38.948825            4.920318   \n",
       "..               ...        ...            ...                 ...   \n",
       "95         33.256335  13.858062      37.780265            5.976768   \n",
       "96         33.108336  12.892375      36.527388            4.594117   \n",
       "97         32.820310  11.634893      35.368626            4.124585   \n",
       "98         32.597183  10.889567      38.212571            4.442054   \n",
       "99         34.814984  12.114945      36.288724            4.389455   \n",
       "\n",
       "    Actual_amount  Predicted_amount  \n",
       "0      684.163431        685.706559  \n",
       "1      491.911505        497.633801  \n",
       "2      595.803819        599.643604  \n",
       "3      612.385230        610.222714  \n",
       "4      573.306222        585.009480  \n",
       "..            ...               ...  \n",
       "95     725.584814        726.128433  \n",
       "96     614.729638        598.674675  \n",
       "97     507.441832        512.821228  \n",
       "98     488.786061        499.683078  \n",
       "99     604.334840        599.905883  \n",
       "\n",
       "[100 rows x 6 columns]"
      ]
     },
     "execution_count": 60,
     "metadata": {},
     "output_type": "execute_result"
    }
   ],
   "source": [
    "new_df=pd.DataFrame()\n",
    "new_df=X_test.copy()\n",
    "\n",
    "new_df[\"Actual_amount\"]=Y_test\n",
    "new_df[\"Predicted_amount\"]=Y_pred\n",
    "new_df\n",
    "new_df=new_df.reset_index().drop(\"index\",axis=1)\n",
    "new_df"
   ]
  },
  {
   "cell_type": "code",
   "execution_count": 61,
   "id": "3ce3928c",
   "metadata": {},
   "outputs": [
    {
     "data": {
      "text/plain": [
       "<AxesSubplot:>"
      ]
     },
     "execution_count": 61,
     "metadata": {},
     "output_type": "execute_result"
    },
    {
     "data": {
      "image/png": "[encoded data removed]",
      "text/plain": [
       "<Figure size 432x288 with 1 Axes>"
      ]
     },
     "metadata": {
      "needs_background": "light"
     },
     "output_type": "display_data"
    }
   ],
   "source": [
    "new_df[\"Actual_amount\"].plot()\n",
    "new_df[\"Predicted_amount\"].plot()"
   ]
  },
  {
   "cell_type": "markdown",
   "id": "33757d37",
   "metadata": {},
   "source": [
    "### Evaluation"
   ]
  },
  {
   "cell_type": "code",
   "execution_count": 62,
   "id": "5eb4ecd2",
   "metadata": {},
   "outputs": [
    {
     "name": "stdout",
     "output_type": "stream",
     "text": [
      "R-squared: 0.9882929974541985\n",
      "RMSE 8.908636036162479\n",
      "Adjusted_r_square 0.9881983954134244\n"
     ]
    }
   ],
   "source": [
    "from sklearn.metrics import r2_score,mean_squared_error\n",
    "import numpy as np\n",
    "\n",
    "r2=r2_score(Y_test,Y_pred)\n",
    "print(\"R-squared:\",r2)\n",
    "\n",
    "rmse=np.sqrt(mean_squared_error(Y_test,Y_pred))\n",
    "print(\"RMSE\",rmse)\n",
    "\n",
    "adjusted_r_squared= 1-(1-r2)*(len(Y)-1)/(len(Y)-X.shape[1]-1)\n",
    "print(\"Adjusted_r_square\",adjusted_r_squared)"
   ]
  },
  {
   "cell_type": "code",
   "execution_count": 63,
   "id": "fb0232e5",
   "metadata": {},
   "outputs": [
    {
     "name": "stdout",
     "output_type": "stream",
     "text": [
      "308.52774655803336\n",
      "765.5184619388372\n"
     ]
    }
   ],
   "source": [
    "print(Y_test.min())\n",
    "print(Y_test.max())"
   ]
  },
  {
   "cell_type": "code",
   "execution_count": 64,
   "id": "b3fc24d1",
   "metadata": {},
   "outputs": [
    {
     "data": {
      "text/html": [
       "<div>\n",
       "<style scoped>\n",
       "    .dataframe tbody tr th:only-of-type {\n",
       "        vertical-align: middle;\n",
       "    }\n",
       "\n",
       "    .dataframe tbody tr th {\n",
       "        vertical-align: top;\n",
       "    }\n",
       "\n",
       "    .dataframe thead th {\n",
       "        text-align: right;\n",
       "    }\n",
       "</style>\n",
       "<table border=\"1\" class=\"dataframe\">\n",
       "  <thead>\n",
       "    <tr style=\"text-align: right;\">\n",
       "      <th></th>\n",
       "      <th>Avgsessionlength</th>\n",
       "      <th>TimeonApp</th>\n",
       "      <th>TimeonWebsite</th>\n",
       "      <th>LengthofMembership</th>\n",
       "      <th>Actual_amount</th>\n",
       "      <th>Predicted_amount</th>\n",
       "      <th>Deviation</th>\n",
       "    </tr>\n",
       "  </thead>\n",
       "  <tbody>\n",
       "    <tr>\n",
       "      <th>0</th>\n",
       "      <td>32.887105</td>\n",
       "      <td>12.387184</td>\n",
       "      <td>37.431159</td>\n",
       "      <td>6.401229</td>\n",
       "      <td>684.163431</td>\n",
       "      <td>685.706559</td>\n",
       "      <td>-1.543128</td>\n",
       "    </tr>\n",
       "    <tr>\n",
       "      <th>1</th>\n",
       "      <td>34.370327</td>\n",
       "      <td>11.887800</td>\n",
       "      <td>37.861447</td>\n",
       "      <td>3.046620</td>\n",
       "      <td>491.911505</td>\n",
       "      <td>497.633801</td>\n",
       "      <td>-5.722295</td>\n",
       "    </tr>\n",
       "    <tr>\n",
       "      <th>2</th>\n",
       "      <td>36.139662</td>\n",
       "      <td>12.050267</td>\n",
       "      <td>36.959643</td>\n",
       "      <td>3.864861</td>\n",
       "      <td>595.803819</td>\n",
       "      <td>599.643604</td>\n",
       "      <td>-3.839785</td>\n",
       "    </tr>\n",
       "    <tr>\n",
       "      <th>3</th>\n",
       "      <td>34.713317</td>\n",
       "      <td>12.038808</td>\n",
       "      <td>37.635299</td>\n",
       "      <td>4.632461</td>\n",
       "      <td>612.385230</td>\n",
       "      <td>610.222714</td>\n",
       "      <td>2.162516</td>\n",
       "    </tr>\n",
       "    <tr>\n",
       "      <th>4</th>\n",
       "      <td>32.439770</td>\n",
       "      <td>12.424130</td>\n",
       "      <td>38.948825</td>\n",
       "      <td>4.920318</td>\n",
       "      <td>573.306222</td>\n",
       "      <td>585.009480</td>\n",
       "      <td>-11.703258</td>\n",
       "    </tr>\n",
       "  </tbody>\n",
       "</table>\n",
       "</div>"
      ],
      "text/plain": [
       "   Avgsessionlength  TimeonApp  TimeonWebsite  LengthofMembership  \\\n",
       "0         32.887105  12.387184      37.431159            6.401229   \n",
       "1         34.370327  11.887800      37.861447            3.046620   \n",
       "2         36.139662  12.050267      36.959643            3.864861   \n",
       "3         34.713317  12.038808      37.635299            4.632461   \n",
       "4         32.439770  12.424130      38.948825            4.920318   \n",
       "\n",
       "   Actual_amount  Predicted_amount  Deviation  \n",
       "0     684.163431        685.706559  -1.543128  \n",
       "1     491.911505        497.633801  -5.722295  \n",
       "2     595.803819        599.643604  -3.839785  \n",
       "3     612.385230        610.222714   2.162516  \n",
       "4     573.306222        585.009480 -11.703258  "
      ]
     },
     "execution_count": 64,
     "metadata": {},
     "output_type": "execute_result"
    }
   ],
   "source": [
    "new_df[\"Deviation\"] = new_df[\"Actual_amount\"]- new_df[\"Predicted_amount\"]\n",
    "new_df.head()"
   ]
  },
  {
   "cell_type": "code",
   "execution_count": 65,
   "id": "dd865c4a",
   "metadata": {},
   "outputs": [
    {
     "data": {
      "text/plain": [
       "(400, 5)"
      ]
     },
     "execution_count": 65,
     "metadata": {},
     "output_type": "execute_result"
    }
   ],
   "source": [
    "new_df=pd.DataFrame()\n",
    "new_df=X_train.copy()\n",
    "\n",
    "new_df[\"YearlyAmountSpent\"]=Y_train.copy()\n",
    "new_df.shape"
   ]
  },
  {
   "cell_type": "code",
   "execution_count": 67,
   "id": "5d65b126",
   "metadata": {
    "scrolled": false
   },
   "outputs": [
    {
     "name": "stdout",
     "output_type": "stream",
     "text": [
      "Intercept            -1063.176078\n",
      "Avgsessionlength        25.844102\n",
      "TimeonApp               38.679412\n",
      "TimeonWebsite            0.644409\n",
      "LengthofMembership      61.815473\n",
      "dtype: float64\n",
      "                            OLS Regression Results                            \n",
      "==============================================================================\n",
      "Dep. Variable:      YearlyAmountSpent   R-squared:                       0.983\n",
      "Model:                            OLS   Adj. R-squared:                  0.983\n",
      "Method:                 Least Squares   F-statistic:                     5607.\n",
      "Date:                Fri, 09 Dec 2022   Prob (F-statistic):               0.00\n",
      "Time:                        11:07:17   Log-Likelihood:                -1495.4\n",
      "No. Observations:                 400   AIC:                             3001.\n",
      "Df Residuals:                     395   BIC:                             3021.\n",
      "Df Model:                           4                                         \n",
      "Covariance Type:            nonrobust                                         \n",
      "======================================================================================\n",
      "                         coef    std err          t      P>|t|      [0.025      0.975]\n",
      "--------------------------------------------------------------------------------------\n",
      "Intercept          -1063.1761     26.259    -40.487      0.000   -1114.802   -1011.550\n",
      "Avgsessionlength      25.8441      0.522     49.532      0.000      24.818      26.870\n",
      "TimeonApp             38.6794      0.523     73.897      0.000      37.650      39.708\n",
      "TimeonWebsite          0.6444      0.508      1.268      0.205      -0.355       1.643\n",
      "LengthofMembership    61.8155      0.527    117.251      0.000      60.779      62.852\n",
      "==============================================================================\n",
      "Omnibus:                        0.856   Durbin-Watson:                   2.015\n",
      "Prob(Omnibus):                  0.652   Jarque-Bera (JB):                0.645\n",
      "Skew:                          -0.068   Prob(JB):                        0.724\n",
      "Kurtosis:                       3.142   Cond. No.                     2.63e+03\n",
      "==============================================================================\n",
      "\n",
      "Notes:\n",
      "[1] Standard Errors assume that the covariance matrix of the errors is correctly specified.\n",
      "[2] The condition number is large, 2.63e+03. This might indicate that there are\n",
      "strong multicollinearity or other numerical problems.\n"
     ]
    }
   ],
   "source": [
    "import statsmodels.formula.api as sm\n",
    "\n",
    "#create a fitted model with all three features\n",
    "lm_model = sm.ols(formula=\"YearlyAmountSpent ~ Avgsessionlength + TimeonApp + TimeonWebsite + LengthofMembership\",\n",
    "                 data=new_df).fit()\n",
    "\n",
    "print(lm_model.params)\n",
    "print(lm_model.summary())"
   ]
  },
  {
   "cell_type": "code",
   "execution_count": 69,
   "id": "7edc8a4f",
   "metadata": {},
   "outputs": [],
   "source": [
    "y_pred_new=lm_model.predict(X_test)"
   ]
  },
  {
   "cell_type": "code",
   "execution_count": 75,
   "id": "ca2f991b",
   "metadata": {},
   "outputs": [
    {
     "name": "stdout",
     "output_type": "stream",
     "text": [
      "R-squared: 0.9882929974541984\n",
      "RMSE: 8.908636036162505\n",
      "Adj R-square: 0.9881983954134242\n"
     ]
    }
   ],
   "source": [
    "from sklearn.metrics import r2_score,mean_squared_error\n",
    "import numpy as np\n",
    "\n",
    "r2=r2_score(Y_test,y_pred_new)\n",
    "print(\"R-squared:\",r2)\n",
    "\n",
    "rmse=np.sqrt(mean_squared_error(Y_test,y_pred_new))\n",
    "print(\"RMSE:\",rmse)\n",
    "\n",
    "adjusted_r_squared = 1 - (1-r2)*(len(Y)-1)/(len(Y)-X.shape[1]-1)\n",
    "print(\"Adj R-square:\",adjusted_r_squared)\n"
   ]
  },
  {
   "cell_type": "code",
   "execution_count": null,
   "id": "a167c22a",
   "metadata": {},
   "outputs": [],
   "source": []
  }
 ],
 "metadata": {
  "kernelspec": {
   "display_name": "Python 3 (ipykernel)",
   "language": "python",
   "name": "python3"
  },
  "language_info": {
   "codemirror_mode": {
    "name": "ipython",
    "version": 3
   },
   "file_extension": ".py",
   "mimetype": "text/x-python",
   "name": "python",
   "nbconvert_exporter": "python",
   "pygments_lexer": "ipython3",
   "version": "3.9.12"
  }
 },
 "nbformat": 4,
 "nbformat_minor": 5
}
