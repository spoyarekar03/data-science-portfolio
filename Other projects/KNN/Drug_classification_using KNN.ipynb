{
 "cells": [
  {
   "cell_type": "markdown",
   "id": "c10cb20c",
   "metadata": {},
   "source": [
    "### Step1. Importing the libraries"
   ]
  },
  {
   "cell_type": "code",
   "execution_count": 1,
   "id": "48a29549",
   "metadata": {},
   "outputs": [],
   "source": [
    "import numpy as np\n",
    "import pandas as pd\n",
    "import matplotlib.pyplot as plt\n",
    "import seaborn as sns\n",
    "import warnings\n",
    "warnings.filterwarnings('ignore')"
   ]
  },
  {
   "cell_type": "markdown",
   "id": "42cef725",
   "metadata": {},
   "source": [
    "### Step2. Creating & Reading the data"
   ]
  },
  {
   "cell_type": "code",
   "execution_count": 2,
   "id": "fd6b37bc",
   "metadata": {},
   "outputs": [
    {
     "data": {
      "text/html": [
       "<div>\n",
       "<style scoped>\n",
       "    .dataframe tbody tr th:only-of-type {\n",
       "        vertical-align: middle;\n",
       "    }\n",
       "\n",
       "    .dataframe tbody tr th {\n",
       "        vertical-align: top;\n",
       "    }\n",
       "\n",
       "    .dataframe thead th {\n",
       "        text-align: right;\n",
       "    }\n",
       "</style>\n",
       "<table border=\"1\" class=\"dataframe\">\n",
       "  <thead>\n",
       "    <tr style=\"text-align: right;\">\n",
       "      <th></th>\n",
       "      <th>Age</th>\n",
       "      <th>Sex</th>\n",
       "      <th>BP</th>\n",
       "      <th>Cholesterol</th>\n",
       "      <th>Na_to_K</th>\n",
       "      <th>Drug</th>\n",
       "    </tr>\n",
       "  </thead>\n",
       "  <tbody>\n",
       "    <tr>\n",
       "      <th>0</th>\n",
       "      <td>23</td>\n",
       "      <td>F</td>\n",
       "      <td>HIGH</td>\n",
       "      <td>HIGH</td>\n",
       "      <td>25.355</td>\n",
       "      <td>DrugY</td>\n",
       "    </tr>\n",
       "    <tr>\n",
       "      <th>1</th>\n",
       "      <td>47</td>\n",
       "      <td>M</td>\n",
       "      <td>LOW</td>\n",
       "      <td>HIGH</td>\n",
       "      <td>13.093</td>\n",
       "      <td>drugC</td>\n",
       "    </tr>\n",
       "    <tr>\n",
       "      <th>2</th>\n",
       "      <td>47</td>\n",
       "      <td>M</td>\n",
       "      <td>LOW</td>\n",
       "      <td>HIGH</td>\n",
       "      <td>10.114</td>\n",
       "      <td>drugC</td>\n",
       "    </tr>\n",
       "    <tr>\n",
       "      <th>3</th>\n",
       "      <td>28</td>\n",
       "      <td>F</td>\n",
       "      <td>NORMAL</td>\n",
       "      <td>HIGH</td>\n",
       "      <td>7.798</td>\n",
       "      <td>drugX</td>\n",
       "    </tr>\n",
       "    <tr>\n",
       "      <th>4</th>\n",
       "      <td>61</td>\n",
       "      <td>F</td>\n",
       "      <td>LOW</td>\n",
       "      <td>HIGH</td>\n",
       "      <td>18.043</td>\n",
       "      <td>DrugY</td>\n",
       "    </tr>\n",
       "    <tr>\n",
       "      <th>...</th>\n",
       "      <td>...</td>\n",
       "      <td>...</td>\n",
       "      <td>...</td>\n",
       "      <td>...</td>\n",
       "      <td>...</td>\n",
       "      <td>...</td>\n",
       "    </tr>\n",
       "    <tr>\n",
       "      <th>195</th>\n",
       "      <td>56</td>\n",
       "      <td>F</td>\n",
       "      <td>LOW</td>\n",
       "      <td>HIGH</td>\n",
       "      <td>11.567</td>\n",
       "      <td>drugC</td>\n",
       "    </tr>\n",
       "    <tr>\n",
       "      <th>196</th>\n",
       "      <td>16</td>\n",
       "      <td>M</td>\n",
       "      <td>LOW</td>\n",
       "      <td>HIGH</td>\n",
       "      <td>12.006</td>\n",
       "      <td>drugC</td>\n",
       "    </tr>\n",
       "    <tr>\n",
       "      <th>197</th>\n",
       "      <td>52</td>\n",
       "      <td>M</td>\n",
       "      <td>NORMAL</td>\n",
       "      <td>HIGH</td>\n",
       "      <td>9.894</td>\n",
       "      <td>drugX</td>\n",
       "    </tr>\n",
       "    <tr>\n",
       "      <th>198</th>\n",
       "      <td>23</td>\n",
       "      <td>M</td>\n",
       "      <td>NORMAL</td>\n",
       "      <td>NORMAL</td>\n",
       "      <td>14.020</td>\n",
       "      <td>drugX</td>\n",
       "    </tr>\n",
       "    <tr>\n",
       "      <th>199</th>\n",
       "      <td>40</td>\n",
       "      <td>F</td>\n",
       "      <td>LOW</td>\n",
       "      <td>NORMAL</td>\n",
       "      <td>11.349</td>\n",
       "      <td>drugX</td>\n",
       "    </tr>\n",
       "  </tbody>\n",
       "</table>\n",
       "<p>200 rows × 6 columns</p>\n",
       "</div>"
      ],
      "text/plain": [
       "     Age Sex      BP Cholesterol  Na_to_K   Drug\n",
       "0     23   F    HIGH        HIGH   25.355  DrugY\n",
       "1     47   M     LOW        HIGH   13.093  drugC\n",
       "2     47   M     LOW        HIGH   10.114  drugC\n",
       "3     28   F  NORMAL        HIGH    7.798  drugX\n",
       "4     61   F     LOW        HIGH   18.043  DrugY\n",
       "..   ...  ..     ...         ...      ...    ...\n",
       "195   56   F     LOW        HIGH   11.567  drugC\n",
       "196   16   M     LOW        HIGH   12.006  drugC\n",
       "197   52   M  NORMAL        HIGH    9.894  drugX\n",
       "198   23   M  NORMAL      NORMAL   14.020  drugX\n",
       "199   40   F     LOW      NORMAL   11.349  drugX\n",
       "\n",
       "[200 rows x 6 columns]"
      ]
     },
     "execution_count": 2,
     "metadata": {},
     "output_type": "execute_result"
    }
   ],
   "source": [
    "df = pd.read_csv(r\"C:\\Users\\shrey\\OneDrive\\Desktop\\Imaritcus Notes\\Machine Learning\\Drug Classification\\Drug.csv\")\n",
    "df"
   ]
  },
  {
   "cell_type": "code",
   "execution_count": 3,
   "id": "f314950b",
   "metadata": {},
   "outputs": [
    {
     "data": {
      "text/plain": [
       "DrugY    91\n",
       "drugX    54\n",
       "drugA    23\n",
       "drugC    16\n",
       "drugB    16\n",
       "Name: Drug, dtype: int64"
      ]
     },
     "execution_count": 3,
     "metadata": {},
     "output_type": "execute_result"
    }
   ],
   "source": [
    "df.Drug.value_counts()"
   ]
  },
  {
   "cell_type": "markdown",
   "id": "a90e7071",
   "metadata": {},
   "source": [
    "### Step3. Check if there are missing values. If yes, handle them."
   ]
  },
  {
   "cell_type": "code",
   "execution_count": 4,
   "id": "ed95635c",
   "metadata": {},
   "outputs": [
    {
     "data": {
      "text/plain": [
       "Age            0\n",
       "Sex            0\n",
       "BP             0\n",
       "Cholesterol    0\n",
       "Na_to_K        0\n",
       "Drug           0\n",
       "dtype: int64"
      ]
     },
     "execution_count": 4,
     "metadata": {},
     "output_type": "execute_result"
    }
   ],
   "source": [
    "df.isnull().sum()"
   ]
  },
  {
   "cell_type": "code",
   "execution_count": 9,
   "id": "6c150ed1",
   "metadata": {},
   "outputs": [
    {
     "name": "stdout",
     "output_type": "stream",
     "text": [
      "{'Age': array([23, 47, 28, 61, 22, 49, 41, 60, 43, 34, 74, 50, 16, 69, 32, 57, 63,\n",
      "       48, 33, 31, 39, 45, 18, 65, 53, 46, 15, 73, 58, 66, 37, 68, 67, 62,\n",
      "       24, 26, 40, 38, 29, 17, 54, 70, 36, 19, 64, 59, 51, 42, 56, 20, 72,\n",
      "       35, 52, 55, 30, 21, 25], dtype=int64)}\n",
      "{'Sex': array(['F', 'M'], dtype=object)}\n",
      "{'BP': array(['HIGH', 'LOW', 'NORMAL'], dtype=object)}\n",
      "{'Cholesterol': array(['HIGH', 'NORMAL'], dtype=object)}\n",
      "{'Na_to_K': array([25.355, 13.093, 10.114,  7.798, 18.043,  8.607, 16.275, 11.037,\n",
      "       15.171, 19.368, 11.767, 19.199, 15.376, 20.942, 12.703, 15.516,\n",
      "       11.455, 13.972,  7.298, 25.974, 19.128, 25.917, 30.568, 15.036,\n",
      "       33.486, 18.809, 30.366,  9.381, 22.697, 17.951,  8.75 ,  9.567,\n",
      "       11.014, 31.876, 14.133,  7.285,  9.445, 13.938,  9.709,  9.084,\n",
      "       19.221, 14.239, 15.79 , 12.26 , 12.295,  8.107, 13.091, 10.291,\n",
      "       31.686, 19.796, 19.416, 10.898, 27.183, 18.457, 10.189, 14.16 ,\n",
      "       11.34 , 27.826, 10.091, 18.703, 29.875,  9.475, 20.693,  8.37 ,\n",
      "       13.303, 27.05 , 12.856, 10.832, 24.658, 24.276, 13.967, 19.675,\n",
      "       10.605, 22.905, 17.069, 20.909, 11.198, 19.161, 13.313, 10.84 ,\n",
      "       13.934,  7.761,  9.712, 11.326, 10.067, 13.935, 13.597, 15.478,\n",
      "       23.091, 17.211, 16.594, 15.156, 29.45 , 29.271, 15.015, 11.424,\n",
      "       38.247, 25.395, 35.639, 16.725, 11.871, 12.854, 13.127,  8.966,\n",
      "       28.294,  8.968, 11.953, 20.013,  9.677, 16.85 ,  7.49 ,  6.683,\n",
      "        9.17 , 13.769,  9.281, 18.295,  9.514, 10.103, 10.292, 25.475,\n",
      "       27.064, 17.206, 22.456, 16.753, 12.495, 25.969, 16.347,  7.845,\n",
      "       33.542,  7.477, 20.489, 32.922, 13.598, 25.786, 21.036, 11.939,\n",
      "       10.977, 12.894, 11.343, 10.065,  6.269, 25.741,  8.621, 15.436,\n",
      "        9.664,  9.443, 12.006, 12.307,  7.34 ,  8.151,  8.7  , 11.009,\n",
      "        7.261, 14.642, 16.724, 10.537, 11.227, 22.963, 10.444, 12.923,\n",
      "       10.443,  9.945, 12.859, 28.632, 19.007, 26.645, 14.216, 23.003,\n",
      "       11.262, 12.879, 10.017, 17.225, 18.739, 12.766, 18.348, 10.446,\n",
      "       19.011, 15.969, 15.891, 22.818, 13.884, 11.686, 15.49 , 37.188,\n",
      "       25.893,  9.849, 10.403, 34.997, 20.932, 18.991,  8.011, 16.31 ,\n",
      "        6.769, 34.686, 11.567,  9.894, 14.02 , 11.349])}\n",
      "{'Drug': array(['DrugY', 'drugC', 'drugX', 'drugA', 'drugB'], dtype=object)}\n"
     ]
    }
   ],
   "source": [
    "for i in df:\n",
    "    print({i:df[i].unique()})"
   ]
  },
  {
   "cell_type": "markdown",
   "id": "53f3de02",
   "metadata": {},
   "source": [
    "### Step4. Data Exploration "
   ]
  },
  {
   "cell_type": "code",
   "execution_count": 11,
   "id": "ac629178",
   "metadata": {},
   "outputs": [
    {
     "data": {
      "text/plain": [
       "Age              int64\n",
       "Sex             object\n",
       "BP              object\n",
       "Cholesterol     object\n",
       "Na_to_K        float64\n",
       "Drug            object\n",
       "dtype: object"
      ]
     },
     "execution_count": 11,
     "metadata": {},
     "output_type": "execute_result"
    }
   ],
   "source": [
    "df.dtypes"
   ]
  },
  {
   "cell_type": "code",
   "execution_count": 16,
   "id": "ab31638b",
   "metadata": {},
   "outputs": [
    {
     "data": {
      "text/plain": [
       "<BarContainer object of 200 artists>"
      ]
     },
     "execution_count": 16,
     "metadata": {},
     "output_type": "execute_result"
    },
    {
     "data": {
      "image/png": "[encoded data removed]",
      "text/plain": [
       "<Figure size 432x288 with 1 Axes>"
      ]
     },
     "metadata": {
      "needs_background": "light"
     },
     "output_type": "display_data"
    }
   ],
   "source": [
    "plt.bar(x=\"Drug\",height=\"Age\",data=df)"
   ]
  },
  {
   "cell_type": "code",
   "execution_count": 19,
   "id": "08ab5d07",
   "metadata": {},
   "outputs": [
    {
     "data": {
      "text/plain": [
       "<AxesSubplot:xlabel='BP', ylabel='count'>"
      ]
     },
     "execution_count": 19,
     "metadata": {},
     "output_type": "execute_result"
    },
    {
     "data": {
      "image/png": "[encoded data removed]",
      "text/plain": [
       "<Figure size 432x288 with 1 Axes>"
      ]
     },
     "metadata": {
      "needs_background": "light"
     },
     "output_type": "display_data"
    }
   ],
   "source": [
    "sns.countplot(x=\"BP\",hue=\"Drug\",data=df)"
   ]
  },
  {
   "cell_type": "code",
   "execution_count": 20,
   "id": "fdacad24",
   "metadata": {},
   "outputs": [
    {
     "data": {
      "text/plain": [
       "<AxesSubplot:xlabel='Cholesterol', ylabel='count'>"
      ]
     },
     "execution_count": 20,
     "metadata": {},
     "output_type": "execute_result"
    },
    {
     "data": {
      "image/png": "[encoded data removed]",
      "text/plain": [
       "<Figure size 432x288 with 1 Axes>"
      ]
     },
     "metadata": {
      "needs_background": "light"
     },
     "output_type": "display_data"
    }
   ],
   "source": [
    "sns.countplot(x=\"Cholesterol\",hue=\"Drug\",data=df)"
   ]
  },
  {
   "cell_type": "code",
   "execution_count": 22,
   "id": "def27219",
   "metadata": {},
   "outputs": [],
   "source": [
    "drug_value=df.Drug.value_counts()"
   ]
  },
  {
   "cell_type": "code",
   "execution_count": 23,
   "id": "53db717c",
   "metadata": {},
   "outputs": [
    {
     "data": {
      "text/plain": [
       "([<matplotlib.patches.Wedge at 0x1f287a0fd00>,\n",
       "  <matplotlib.patches.Wedge at 0x1f287a1d460>,\n",
       "  <matplotlib.patches.Wedge at 0x1f287a1dbb0>,\n",
       "  <matplotlib.patches.Wedge at 0x1f287a2a340>,\n",
       "  <matplotlib.patches.Wedge at 0x1f287a2aa60>],\n",
       " [Text(0.15499131026807186, 1.0890260298732013, 'DrugY'),\n",
       "  Text(-0.9287606496234333, -0.5894095823033915, 'drugX'),\n",
       "  Text(0.22306619331099625, -1.0771450568060652, 'drugA'),\n",
       "  Text(0.801865608605421, -0.7530016903937586, 'drugC'),\n",
       "  Text(1.0654415171968743, -0.27355872026536265, 'drugB')],\n",
       " [Text(0.08454071469167555, 0.5940141981126551, '45.50%'),\n",
       "  Text(-0.5065967179764181, -0.3214961358018498, '27.00%'),\n",
       "  Text(0.12167246907872521, -0.5875336673487628, '11.50%'),\n",
       "  Text(0.43738124105750237, -0.4107281947602319, '8.00%'),\n",
       "  Text(0.5811499184710223, -0.1492138474174705, '8.00%')])"
      ]
     },
     "execution_count": 23,
     "metadata": {},
     "output_type": "execute_result"
    },
    {
     "data": {
      "image/png": "[encoded data removed]",
      "text/plain": [
       "<Figure size 432x288 with 1 Axes>"
      ]
     },
     "metadata": {},
     "output_type": "display_data"
    }
   ],
   "source": [
    "plt.pie(drug_value,labels=drug_value.keys(),autopct=\"%.2f%%\")"
   ]
  },
  {
   "cell_type": "markdown",
   "id": "578d9b7b",
   "metadata": {},
   "source": [
    "# Label Encoding"
   ]
  },
  {
   "cell_type": "code",
   "execution_count": 26,
   "id": "917f2ccf",
   "metadata": {},
   "outputs": [],
   "source": [
    "from sklearn.preprocessing import LabelEncoder\n",
    "\n",
    "le = LabelEncoder()\n",
    "df[\"Sex\"] = le.fit_transform(df[\"Sex\"])\n",
    "df[\"BP\"]= le.fit_transform(df[\"BP\"])\n",
    "df[\"Cholesterol\"]= le.fit_transform(df[\"Cholesterol\"])\n",
    "df[\"Drug\"]= le.fit_transform(df[\"Drug\"])"
   ]
  },
  {
   "cell_type": "markdown",
   "id": "7ce00950",
   "metadata": {},
   "source": [
    "### Step5. Creating X & Y"
   ]
  },
  {
   "cell_type": "code",
   "execution_count": 28,
   "id": "d3f3beff",
   "metadata": {},
   "outputs": [],
   "source": [
    "X=df.values[:,:-1]\n",
    "Y=df.values[:,-1]"
   ]
  },
  {
   "cell_type": "code",
   "execution_count": 30,
   "id": "06134b18",
   "metadata": {},
   "outputs": [
    {
     "name": "stdout",
     "output_type": "stream",
     "text": [
      "(200, 5)\n",
      "(200,)\n"
     ]
    }
   ],
   "source": [
    "print(X.shape)\n",
    "print(Y.shape)"
   ]
  },
  {
   "cell_type": "markdown",
   "id": "fe698586",
   "metadata": {},
   "source": [
    "### Scaling the data"
   ]
  },
  {
   "cell_type": "code",
   "execution_count": 36,
   "id": "91c16ad0",
   "metadata": {},
   "outputs": [],
   "source": [
    "from sklearn.preprocessing import StandardScaler\n",
    "\n",
    "scaler= StandardScaler()\n",
    "X=scaler.fit_transform(X)\n",
    "#print(X)"
   ]
  },
  {
   "cell_type": "markdown",
   "id": "bba9601c",
   "metadata": {},
   "source": [
    "### Step6. Shuffle and Split Data"
   ]
  },
  {
   "cell_type": "code",
   "execution_count": 55,
   "id": "b1bbf7ee",
   "metadata": {},
   "outputs": [],
   "source": [
    "from sklearn.model_selection import train_test_split\n",
    "X_train,X_test,Y_train,Y_test= train_test_split(X,Y,test_size=0.3,random_state=10)"
   ]
  },
  {
   "cell_type": "code",
   "execution_count": 56,
   "id": "f22f322c",
   "metadata": {},
   "outputs": [
    {
     "name": "stdout",
     "output_type": "stream",
     "text": [
      "(140, 5)\n",
      "(140,)\n",
      "(60, 5)\n",
      "(60,)\n"
     ]
    }
   ],
   "source": [
    "print(X_train.shape)\n",
    "print(Y_train.shape)\n",
    "print(X_test.shape)\n",
    "print(Y_test.shape)"
   ]
  },
  {
   "cell_type": "markdown",
   "id": "594a24ac",
   "metadata": {},
   "source": [
    "# Training the model using Knn"
   ]
  },
  {
   "cell_type": "code",
   "execution_count": 57,
   "id": "a59f7169",
   "metadata": {},
   "outputs": [
    {
     "name": "stdout",
     "output_type": "stream",
     "text": [
      "[(0.0, 0.0), (4.0, 4.0), (0.0, 4.0), (4.0, 4.0), (0.0, 0.0), (0.0, 0.0), (4.0, 4.0), (3.0, 4.0), (0.0, 0.0), (3.0, 0.0), (0.0, 0.0), (3.0, 3.0), (0.0, 4.0), (2.0, 4.0), (2.0, 1.0), (4.0, 4.0), (0.0, 0.0), (1.0, 0.0), (4.0, 4.0), (0.0, 0.0), (0.0, 4.0), (0.0, 0.0), (1.0, 1.0), (0.0, 0.0), (3.0, 4.0), (0.0, 0.0), (2.0, 0.0), (3.0, 0.0), (3.0, 2.0), (0.0, 4.0), (4.0, 0.0), (4.0, 4.0), (1.0, 3.0), (0.0, 1.0), (4.0, 4.0), (0.0, 0.0), (4.0, 4.0), (1.0, 1.0), (1.0, 0.0), (1.0, 1.0), (0.0, 0.0), (3.0, 0.0), (0.0, 0.0), (2.0, 1.0), (4.0, 4.0), (4.0, 4.0), (4.0, 0.0), (4.0, 4.0), (2.0, 4.0), (4.0, 4.0), (0.0, 0.0), (4.0, 0.0), (1.0, 0.0), (0.0, 0.0), (0.0, 0.0), (0.0, 0.0), (0.0, 0.0), (2.0, 2.0), (0.0, 0.0), (0.0, 0.0)]\n"
     ]
    }
   ],
   "source": [
    "from sklearn.neighbors import KNeighborsClassifier\n",
    "\n",
    "knn=KNeighborsClassifier(n_neighbors=int(np.sqrt(len(X_train))),\n",
    "                              metric='euclidean')\n",
    "knn.fit(X_train,Y_train)\n",
    "\n",
    "Y_pred=knn.predict(X_test)\n",
    "print(list(zip(Y_test,Y_pred)))"
   ]
  },
  {
   "cell_type": "markdown",
   "id": "767e1f25",
   "metadata": {},
   "source": [
    "# Evaluation"
   ]
  },
  {
   "cell_type": "code",
   "execution_count": 58,
   "id": "cb5aef0e",
   "metadata": {},
   "outputs": [
    {
     "name": "stdout",
     "output_type": "stream",
     "text": [
      "[[20  1  0  0  4]\n",
      " [ 3  3  0  1  0]\n",
      " [ 1  2  1  0  2]\n",
      " [ 3  0  1  1  2]\n",
      " [ 3  0  0  0 12]]\n",
      "classification report\n",
      "              precision    recall  f1-score   support\n",
      "\n",
      "         0.0       0.67      0.80      0.73        25\n",
      "         1.0       0.50      0.43      0.46         7\n",
      "         2.0       0.50      0.17      0.25         6\n",
      "         3.0       0.50      0.14      0.22         7\n",
      "         4.0       0.60      0.80      0.69        15\n",
      "\n",
      "    accuracy                           0.62        60\n",
      "   macro avg       0.55      0.47      0.47        60\n",
      "weighted avg       0.59      0.62      0.58        60\n",
      "\n",
      "Accuracy of the model: 0.6166666666666667\n"
     ]
    }
   ],
   "source": [
    "from sklearn.metrics import confusion_matrix,accuracy_score,classification_report\n",
    "\n",
    "cfm = confusion_matrix(Y_test,Y_pred)\n",
    "print(cfm)\n",
    "\n",
    "print(\"classification report\")\n",
    "\n",
    "print(classification_report(Y_test,Y_pred))\n",
    "\n",
    "acc = accuracy_score(Y_test,Y_pred)\n",
    "print(\"Accuracy of the model:\",acc)"
   ]
  },
  {
   "cell_type": "code",
   "execution_count": 70,
   "id": "08c54bb4",
   "metadata": {},
   "outputs": [
    {
     "name": "stdout",
     "output_type": "stream",
     "text": [
      "Accuracy is 0.8833333333333333 for K-Value: 1\n",
      "Accuracy is 0.7333333333333333 for K-Value: 2\n",
      "Accuracy is 0.6666666666666666 for K-Value: 3\n",
      "Accuracy is 0.6833333333333333 for K-Value: 4\n",
      "Accuracy is 0.6166666666666667 for K-Value: 5\n",
      "Accuracy is 0.6666666666666666 for K-Value: 6\n",
      "Accuracy is 0.65 for K-Value: 7\n",
      "Accuracy is 0.6833333333333333 for K-Value: 8\n",
      "Accuracy is 0.6833333333333333 for K-Value: 9\n",
      "Accuracy is 0.65 for K-Value: 10\n"
     ]
    }
   ],
   "source": [
    "from sklearn.metrics import accuracy_score\n",
    "my_dict={}\n",
    "for K in range(1,11):\n",
    "    model_KNN=KNeighborsClassifier(n_neighbors=K,metric='euclidean')\n",
    "    model_KNN.fit(X_train,Y_train)\n",
    "    Y_pred=model_KNN.predict(X_test)\n",
    "    print(\"Accuracy is\",accuracy_score(Y_test,Y_pred), \"for K-Value:\",K)\n",
    "    my_dict[K]=accuracy_score(Y_test,Y_pred)"
   ]
  },
  {
   "cell_type": "code",
   "execution_count": 71,
   "id": "339ce999",
   "metadata": {},
   "outputs": [
    {
     "name": "stdout",
     "output_type": "stream",
     "text": [
      "1 : 0.8833333333333333\n"
     ]
    }
   ],
   "source": [
    "for k in my_dict:\n",
    "    if my_dict[k]==max(my_dict.values()):\n",
    "        print(k,\":\",my_dict[k])"
   ]
  },
  {
   "cell_type": "code",
   "execution_count": 72,
   "id": "5d87cd89",
   "metadata": {},
   "outputs": [
    {
     "name": "stdout",
     "output_type": "stream",
     "text": [
      "[(0.0, 1.0), (4.0, 4.0), (0.0, 0.0), (4.0, 4.0), (0.0, 0.0), (0.0, 0.0), (4.0, 0.0), (3.0, 3.0), (0.0, 0.0), (3.0, 3.0), (0.0, 0.0), (3.0, 3.0), (0.0, 0.0), (2.0, 1.0), (2.0, 2.0), (4.0, 4.0), (0.0, 0.0), (1.0, 1.0), (4.0, 4.0), (0.0, 0.0), (0.0, 4.0), (0.0, 0.0), (1.0, 1.0), (0.0, 0.0), (3.0, 3.0), (0.0, 0.0), (2.0, 2.0), (3.0, 3.0), (3.0, 3.0), (0.0, 0.0), (4.0, 4.0), (4.0, 4.0), (1.0, 1.0), (0.0, 0.0), (4.0, 4.0), (0.0, 4.0), (4.0, 4.0), (1.0, 1.0), (1.0, 1.0), (1.0, 1.0), (0.0, 0.0), (3.0, 3.0), (0.0, 0.0), (2.0, 1.0), (4.0, 4.0), (4.0, 4.0), (4.0, 4.0), (4.0, 4.0), (2.0, 2.0), (4.0, 4.0), (0.0, 0.0), (4.0, 4.0), (1.0, 1.0), (0.0, 0.0), (0.0, 0.0), (0.0, 0.0), (0.0, 0.0), (2.0, 0.0), (0.0, 0.0), (0.0, 0.0)]\n"
     ]
    }
   ],
   "source": [
    "from sklearn.neighbors import KNeighborsClassifier\n",
    "\n",
    "knn=KNeighborsClassifier(n_neighbors=1,metric='euclidean')\n",
    "knn.fit(X_train,Y_train)\n",
    "\n",
    "Y_pred=knn.predict(X_test)\n",
    "print(list(zip(Y_test,Y_pred)))"
   ]
  },
  {
   "cell_type": "code",
   "execution_count": 73,
   "id": "ed34dfcb",
   "metadata": {},
   "outputs": [
    {
     "name": "stdout",
     "output_type": "stream",
     "text": [
      "[[22  1  0  0  2]\n",
      " [ 0  7  0  0  0]\n",
      " [ 1  2  3  0  0]\n",
      " [ 0  0  0  7  0]\n",
      " [ 1  0  0  0 14]]\n",
      "classification report\n",
      "              precision    recall  f1-score   support\n",
      "\n",
      "         0.0       0.92      0.88      0.90        25\n",
      "         1.0       0.70      1.00      0.82         7\n",
      "         2.0       1.00      0.50      0.67         6\n",
      "         3.0       1.00      1.00      1.00         7\n",
      "         4.0       0.88      0.93      0.90        15\n",
      "\n",
      "    accuracy                           0.88        60\n",
      "   macro avg       0.90      0.86      0.86        60\n",
      "weighted avg       0.90      0.88      0.88        60\n",
      "\n",
      "Accuracy of the model: 0.8833333333333333\n"
     ]
    }
   ],
   "source": [
    "from sklearn.metrics import confusion_matrix,accuracy_score,classification_report\n",
    "\n",
    "cfm = confusion_matrix(Y_test,Y_pred)\n",
    "print(cfm)\n",
    "\n",
    "print(\"classification report\")\n",
    "\n",
    "print(classification_report(Y_test,Y_pred))\n",
    "\n",
    "acc = accuracy_score(Y_test,Y_pred)\n",
    "print(\"Accuracy of the model:\",acc)"
   ]
  },
  {
   "cell_type": "code",
   "execution_count": 59,
   "id": "4a90f1e9",
   "metadata": {},
   "outputs": [
    {
     "name": "stdout",
     "output_type": "stream",
     "text": [
      "[(0.0, 0.0), (4.0, 4.0), (0.0, 0.0), (4.0, 4.0), (0.0, 0.0), (0.0, 0.0), (4.0, 4.0), (3.0, 0.0), (0.0, 0.0), (3.0, 3.0), (0.0, 0.0), (3.0, 3.0), (0.0, 0.0), (2.0, 1.0), (2.0, 2.0), (4.0, 4.0), (0.0, 0.0), (1.0, 1.0), (4.0, 4.0), (0.0, 0.0), (0.0, 0.0), (0.0, 0.0), (1.0, 1.0), (0.0, 0.0), (3.0, 3.0), (0.0, 0.0), (2.0, 2.0), (3.0, 0.0), (3.0, 3.0), (0.0, 4.0), (4.0, 4.0), (4.0, 4.0), (1.0, 1.0), (0.0, 0.0), (4.0, 4.0), (0.0, 0.0), (4.0, 4.0), (1.0, 1.0), (1.0, 1.0), (1.0, 1.0), (0.0, 0.0), (3.0, 3.0), (0.0, 0.0), (2.0, 1.0), (4.0, 4.0), (4.0, 4.0), (4.0, 4.0), (4.0, 4.0), (2.0, 2.0), (4.0, 4.0), (0.0, 0.0), (4.0, 4.0), (1.0, 1.0), (0.0, 0.0), (0.0, 0.0), (0.0, 0.0), (0.0, 2.0), (2.0, 2.0), (0.0, 0.0), (0.0, 0.0)]\n"
     ]
    }
   ],
   "source": [
    "from sklearn.linear_model import LogisticRegression\n",
    "cf = LogisticRegression()\n",
    "\n",
    "cf.fit(X_train,Y_train)\n",
    "\n",
    "Y_pred = cf.predict(X_test)\n",
    "print(list(zip(Y_test,Y_pred)))"
   ]
  },
  {
   "cell_type": "code",
   "execution_count": 60,
   "id": "2d2b3aea",
   "metadata": {},
   "outputs": [
    {
     "name": "stdout",
     "output_type": "stream",
     "text": [
      "[[23  0  1  0  1]\n",
      " [ 0  7  0  0  0]\n",
      " [ 0  2  4  0  0]\n",
      " [ 2  0  0  5  0]\n",
      " [ 0  0  0  0 15]]\n",
      "classification report\n",
      "              precision    recall  f1-score   support\n",
      "\n",
      "         0.0       0.92      0.92      0.92        25\n",
      "         1.0       0.78      1.00      0.88         7\n",
      "         2.0       0.80      0.67      0.73         6\n",
      "         3.0       1.00      0.71      0.83         7\n",
      "         4.0       0.94      1.00      0.97        15\n",
      "\n",
      "    accuracy                           0.90        60\n",
      "   macro avg       0.89      0.86      0.86        60\n",
      "weighted avg       0.91      0.90      0.90        60\n",
      "\n",
      "Accuracy of the model: 0.9\n"
     ]
    }
   ],
   "source": [
    "from sklearn.metrics import confusion_matrix,accuracy_score,classification_report\n",
    "\n",
    "cfm = confusion_matrix(Y_test,Y_pred)\n",
    "print(cfm)\n",
    "\n",
    "print(\"classification report\")\n",
    "\n",
    "print(classification_report(Y_test,Y_pred))\n",
    "\n",
    "acc = accuracy_score(Y_test,Y_pred)\n",
    "print(\"Accuracy of the model:\",acc)"
   ]
  }
 ],
 "metadata": {
  "kernelspec": {
   "display_name": "Python 3 (ipykernel)",
   "language": "python",
   "name": "python3"
  },
  "language_info": {
   "codemirror_mode": {
    "name": "ipython",
    "version": 3
   },
   "file_extension": ".py",
   "mimetype": "text/x-python",
   "name": "python",
   "nbconvert_exporter": "python",
   "pygments_lexer": "ipython3",
   "version": "3.9.12"
  }
 },
 "nbformat": 4,
 "nbformat_minor": 5
}
